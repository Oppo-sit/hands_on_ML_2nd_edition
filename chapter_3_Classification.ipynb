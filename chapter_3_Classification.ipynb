{
 "cells": [
  {
   "cell_type": "markdown",
   "id": "filled-solomon",
   "metadata": {},
   "source": [
    "## Chapter 3 Classification\n",
    "2장은 '회귀'에 관한 다양한 코딩을 하였다.\n",
    "이번에는 `분류`에 대한 코딩을 배워보도록 한다."
   ]
  },
  {
   "cell_type": "markdown",
   "id": "supreme-modern",
   "metadata": {},
   "source": [
    "### Part 1 MNIST\n",
    "MNIST 데이터셋은 70000개 가량의 숫자를 손글씨로 쓴 데이터셋으로, 머신러닝 분야의 **Hello World!** 라고 할 수 있다.\n",
    "MNIST 데이터셋은 다양한 다운로드 경로가 있으며, scikit-learn에서도 MNIST 데이터셋을 제공받을 수 있다. "
   ]
  },
  {
   "cell_type": "code",
   "execution_count": 3,
   "id": "electric-plaza",
   "metadata": {},
   "outputs": [
    {
     "data": {
      "text/plain": [
       "dict_keys(['data', 'target', 'frame', 'categories', 'feature_names', 'target_names', 'DESCR', 'details', 'url'])"
      ]
     },
     "execution_count": 3,
     "metadata": {},
     "output_type": "execute_result"
    }
   ],
   "source": [
    "# MNIST dataset download\n",
    "# scikit-learn 0.24 패치 이후로 fetch_openml()이 pandas의 DataFrame 형식으로 반환.\n",
    "# 이로 인해 오류가 발생하므로 as_frame=False를 추가해준다.\n",
    "from sklearn.datasets import fetch_openml\n",
    "mnist = fetch_openml('mnist_784', version=1, as_frame=False) # fetch_openml() : openml의 dataset을 가져온다.\n",
    "mnist.keys() # dictionary에서의 key는 column의 역할을 한다고 생각하면 편하다."
   ]
  },
  {
   "cell_type": "markdown",
   "id": "indirect-contamination",
   "metadata": {},
   "source": [
    "scikit-learn에서 읽어들인 데이터셋은 공통적인 딕셔너리 구조를 가진다.\n",
    "- DESCR : 데이터셋에 대한 설명\n",
    "- data : 행은 샘플, 열은 특성으로 구성된 배열\n",
    "- target : 레이블 배열이 담긴 키"
   ]
  },
  {
   "cell_type": "code",
   "execution_count": 4,
   "id": "identified-fiber",
   "metadata": {},
   "outputs": [
    {
     "name": "stdout",
     "output_type": "stream",
     "text": [
      "(70000, 784)\n",
      "(70000,)\n"
     ]
    }
   ],
   "source": [
    "X, y = mnist[\"data\"], mnist[\"target\"]\n",
    "print(X.shape)\n",
    "print(y.shape)\n",
    "# 결과값을 보면, data의 개수는 총 70000개이며, X는 784(28 pixel*28 pixel)의 특성을 추가적으로 가진다."
   ]
  },
  {
   "cell_type": "code",
   "execution_count": 11,
   "id": "international-chart",
   "metadata": {},
   "outputs": [
    {
     "data": {
      "image/png": "[encoded data removed]",
      "text/plain": [
       "<Figure size 432x288 with 1 Axes>"
      ]
     },
     "metadata": {
      "needs_background": "light"
     },
     "output_type": "display_data"
    },
    {
     "name": "stdout",
     "output_type": "stream",
     "text": [
      "5\n",
      "(70000,)\n"
     ]
    }
   ],
   "source": [
    "import matplotlib as mpl\n",
    "import matplotlib.pyplot as plt\n",
    "\n",
    "some_digit = X[0]\n",
    "some_digit_image = some_digit.reshape(28, 28) # (784) -> (28, 28)\n",
    "\n",
    "plt.imshow(some_digit_image, cmap=\"binary\")\n",
    "plt.axis(\"off\")\n",
    "plt.show()\n",
    "\n",
    "print(y[0])"
   ]
  },
  {
   "cell_type": "markdown",
   "id": "executed-karen",
   "metadata": {},
   "source": [
    "출력한 손글씨 이미지와 레이블을 비교해본 결과 같음을 확인할 수 있다.  \n",
    "한편, MNIST dataset의 레이블 데이터는 **문자열**이기 떄문에 이를 머신러닝 알고리즘에 맞춰 **정수형**으로 바꿔준다."
   ]
  },
  {
   "cell_type": "code",
   "execution_count": 13,
   "id": "portable-amateur",
   "metadata": {},
   "outputs": [],
   "source": [
    "import numpy as np\n",
    "\n",
    "y=y.astype(np.uint8)"
   ]
  },
  {
   "cell_type": "markdown",
   "id": "colored-thong",
   "metadata": {},
   "source": [
    "Training을 위해 MNIST dataset을 train set과 test set으로 나눈다.  \n",
    "이 때, MNIST dataset은 이미 `셔플`되어 있고 훈련 데이터와 테스트 데이터를 `나누어`놓았기 때문에, 간단한 분할만 진행하면 된다. (셔플된 데이터는 모든 교차 검증 폴드를 비슷하게 만들어주는 효과가 있다.)"
   ]
  },
  {
   "cell_type": "code",
   "execution_count": 14,
   "id": "structured-month",
   "metadata": {},
   "outputs": [],
   "source": [
    "X_train, X_test, y_train, y_test = X[:60000], X[:60000], y[:60000], y[60000:]"
   ]
  },
  {
   "cell_type": "markdown",
   "id": "large-design",
   "metadata": {},
   "source": [
    "## Part 2 Training Binary Classifier\n",
    "처음에는 숫자 '5'만을 인식하는 문제라고 생각해보자.  \n",
    "이를 해결하기 위해서는 **5인 이미지**와 **5가 아닌 이미지**를 분류하는 `Binary Classifier`(이진 분류기)가 필요하다."
   ]
  },
  {
   "cell_type": "code",
   "execution_count": 15,
   "id": "unlikely-appointment",
   "metadata": {},
   "outputs": [],
   "source": [
    "# 학습, 테스트 데이터에서 레이블이 '5'인 데이터를 모두 가져온다.\n",
    "y_train_5 = (y_train == 5)\n",
    "y_test_5 = (y_test == 5)"
   ]
  },
  {
   "cell_type": "markdown",
   "id": "royal-benchmark",
   "metadata": {},
   "source": [
    "optimizer(분류 모델)을 선정한다.  \n",
    "optimizer에 관한 자료는 \n",
    "https://ganghee-lee.tistory.com/24, https://wiserloner.tistory.com/1032 에서 참고."
   ]
  },
  {
   "cell_type": "code",
   "execution_count": 16,
   "id": "tired-impact",
   "metadata": {},
   "outputs": [
    {
     "data": {
      "text/plain": [
       "SGDClassifier(random_state=42)"
      ]
     },
     "execution_count": 16,
     "metadata": {},
     "output_type": "execute_result"
    }
   ],
   "source": [
    "# Stochastic Gradient Descent(SGD)를 사용하여 mnist data를 훈련한다.\n",
    "\n",
    "from sklearn.linear_model import SGDClassifier\n",
    "\n",
    "sgd_clf = SGDClassifier(random_state=42) #SGD는 무작위성을 이용하므로 결과 재현을 위해서는 random_state를 지정해야 한다.\n",
    "sgd_clf.fit(X_train, y_train_5)"
   ]
  },
  {
   "cell_type": "code",
   "execution_count": 18,
   "id": "civil-optimization",
   "metadata": {},
   "outputs": [
    {
     "data": {
      "text/plain": [
       "array([ True])"
      ]
     },
     "execution_count": 18,
     "metadata": {},
     "output_type": "execute_result"
    }
   ],
   "source": [
    "# 학습한 모델로 처음 출력했던 '5' 이미지를 정상적으로 예측할 수 있는지 확인\n",
    "sgd_clf.predict([some_digit])\n",
    "# 함수 실행 결과 True: 제대로 예측했음"
   ]
  },
  {
   "cell_type": "code",
   "execution_count": null,
   "id": "emerging-truck",
   "metadata": {},
   "outputs": [],
   "source": []
  }
 ],
 "metadata": {
  "kernelspec": {
   "display_name": "Python 3",
   "language": "python",
   "name": "python3"
  },
  "language_info": {
   "codemirror_mode": {
    "name": "ipython",
    "version": 3
   },
   "file_extension": ".py",
   "mimetype": "text/x-python",
   "name": "python",
   "nbconvert_exporter": "python",
   "pygments_lexer": "ipython3",
   "version": "3.7.10"
  }
 },
 "nbformat": 4,
 "nbformat_minor": 5
}
